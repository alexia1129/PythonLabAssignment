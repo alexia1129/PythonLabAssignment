{
 "cells": [
  {
   "cell_type": "markdown",
   "metadata": {},
   "source": [
    "# PyCity Schools Analysis\n",
    "\n",
    "* As a whole, schools with higher budgets, did not yield better test results. By contrast, schools with higher spending per student actually (\\\\$645 - 675) underperformed compared to schools with smaller budgets (\\\\$585 per student).\n",
    "\n",
    "* As a whole, smaller and medium sized schools dramatically out-performed large sized schools on passing math performances (89-91% passing vs 67%).\n",
    "\n",
    "* As a whole, charter schools out-performed the public district schools across all metrics. However, more analysis will be required to glean if the effect is due to school practices or the fact that charter schools tend to serve smaller student populations per school. \n",
    "---"
   ]
  },
  {
   "cell_type": "markdown",
   "metadata": {},
   "source": [
    "**Note:**\n",
    "Instructions have been included for each segment. You do not have to follow them exactly, but they are included to help you think through the steps."
   ]
  },
  {
   "cell_type": "code",
   "execution_count": 84,
   "metadata": {
    "ExecuteTime": {
     "end_time": "2022-08-06T06:08:31.925112Z",
     "start_time": "2022-08-06T06:08:29.337754Z"
    }
   },
   "outputs": [
    {
     "name": "stdout",
     "output_type": "stream",
     "text": [
      "    id  School ID            school_name      type  size   budget\n",
      "0    0          0      Huang High School  District  2917  1910635\n",
      "1    1          1   Figueroa High School  District  2949  1884411\n",
      "2    2          2    Shelton High School   Charter  1761  1056600\n",
      "3    3          3  Hernandez High School  District  4635  3022020\n",
      "4    4          4    Griffin High School   Charter  1468   917500\n",
      "5    5          5     Wilson High School   Charter  2283  1319574\n",
      "6    6          6    Cabrera High School   Charter  1858  1081356\n",
      "7    7          7     Bailey High School  District  4976  3124928\n",
      "8    8          8     Holden High School   Charter   427   248087\n",
      "9    9          9       Pena High School   Charter   962   585858\n",
      "10  10         10     Wright High School   Charter  1800  1049400\n",
      "11  11         11  Rodriguez High School  District  3999  2547363\n",
      "12  12         12    Johnson High School  District  4761  3094650\n",
      "13  13         13       Ford High School  District  2739  1763916\n",
      "14  14         14     Thomas High School   Charter  1635  1043130\n",
      "          id  Student ID       student_name gender grade         school_name  \\\n",
      "0          0           0       Paul Bradley      M   9th   Huang High School   \n",
      "1          1           1       Victor Smith      M  12th   Huang High School   \n",
      "2          2           2    Kevin Rodriguez      M  12th   Huang High School   \n",
      "3          3           3  Dr. Richard Scott      M  12th   Huang High School   \n",
      "4          4           4         Bonnie Ray      F   9th   Huang High School   \n",
      "...      ...         ...                ...    ...   ...                 ...   \n",
      "39165  39165       39165       Donna Howard      F  12th  Thomas High School   \n",
      "39166  39166       39166          Dawn Bell      F  10th  Thomas High School   \n",
      "39167  39167       39167     Rebecca Tanner      F   9th  Thomas High School   \n",
      "39168  39168       39168       Desiree Kidd      F  10th  Thomas High School   \n",
      "39169  39169       39169    Carolyn Jackson      F  11th  Thomas High School   \n",
      "\n",
      "       reading_score  math_score  \n",
      "0                 66          79  \n",
      "1                 94          61  \n",
      "2                 90          60  \n",
      "3                 67          58  \n",
      "4                 97          84  \n",
      "...              ...         ...  \n",
      "39165             99          90  \n",
      "39166             95          70  \n",
      "39167             73          84  \n",
      "39168             99          90  \n",
      "39169             95          75  \n",
      "\n",
      "[39170 rows x 8 columns]\n"
     ]
    }
   ],
   "source": [
    "#Dependencies and Setup\n",
    "import pandas as pd\n",
    "import numpy as np\n",
    "import sqlite3\n",
    "\n",
    "#loading data from python.db database\n",
    "con = sqlite3.connect('data/python.db')\n",
    "\n",
    "# Read 'school' and 'student' tables into pandas dataframe\n",
    "school_data = pd.read_sql_query('SELECT * FROM school', con)\n",
    "student_data = pd.read_sql_query('SELECT * FROM student', con)\n",
    "\n",
    "print(school_data)\n",
    "print(student_data)"
   ]
  },
  {
   "cell_type": "code",
   "execution_count": 94,
   "metadata": {},
   "outputs": [
    {
     "data": {
      "text/html": [
       "<div>\n",
       "<style scoped>\n",
       "    .dataframe tbody tr th:only-of-type {\n",
       "        vertical-align: middle;\n",
       "    }\n",
       "\n",
       "    .dataframe tbody tr th {\n",
       "        vertical-align: top;\n",
       "    }\n",
       "\n",
       "    .dataframe thead th {\n",
       "        text-align: right;\n",
       "    }\n",
       "</style>\n",
       "<table border=\"1\" class=\"dataframe\">\n",
       "  <thead>\n",
       "    <tr style=\"text-align: right;\">\n",
       "      <th></th>\n",
       "      <th>id_x</th>\n",
       "      <th>Student ID</th>\n",
       "      <th>student_name</th>\n",
       "      <th>gender</th>\n",
       "      <th>grade</th>\n",
       "      <th>school_name</th>\n",
       "      <th>reading_score</th>\n",
       "      <th>math_score</th>\n",
       "      <th>id_y</th>\n",
       "      <th>School ID</th>\n",
       "      <th>type</th>\n",
       "      <th>size</th>\n",
       "      <th>budget</th>\n",
       "      <th>Category</th>\n",
       "    </tr>\n",
       "  </thead>\n",
       "  <tbody>\n",
       "    <tr>\n",
       "      <th>0</th>\n",
       "      <td>0</td>\n",
       "      <td>0</td>\n",
       "      <td>Paul Bradley</td>\n",
       "      <td>M</td>\n",
       "      <td>9th</td>\n",
       "      <td>Huang High School</td>\n",
       "      <td>66</td>\n",
       "      <td>79</td>\n",
       "      <td>0</td>\n",
       "      <td>0</td>\n",
       "      <td>District</td>\n",
       "      <td>2917</td>\n",
       "      <td>1910635</td>\n",
       "      <td>Charter (&gt;2740)</td>\n",
       "    </tr>\n",
       "    <tr>\n",
       "      <th>1</th>\n",
       "      <td>1</td>\n",
       "      <td>1</td>\n",
       "      <td>Victor Smith</td>\n",
       "      <td>M</td>\n",
       "      <td>12th</td>\n",
       "      <td>Huang High School</td>\n",
       "      <td>94</td>\n",
       "      <td>61</td>\n",
       "      <td>0</td>\n",
       "      <td>0</td>\n",
       "      <td>District</td>\n",
       "      <td>2917</td>\n",
       "      <td>1910635</td>\n",
       "      <td>Charter (&gt;2740)</td>\n",
       "    </tr>\n",
       "    <tr>\n",
       "      <th>2</th>\n",
       "      <td>2</td>\n",
       "      <td>2</td>\n",
       "      <td>Kevin Rodriguez</td>\n",
       "      <td>M</td>\n",
       "      <td>12th</td>\n",
       "      <td>Huang High School</td>\n",
       "      <td>90</td>\n",
       "      <td>60</td>\n",
       "      <td>0</td>\n",
       "      <td>0</td>\n",
       "      <td>District</td>\n",
       "      <td>2917</td>\n",
       "      <td>1910635</td>\n",
       "      <td>Charter (&gt;2740)</td>\n",
       "    </tr>\n",
       "    <tr>\n",
       "      <th>3</th>\n",
       "      <td>3</td>\n",
       "      <td>3</td>\n",
       "      <td>Dr. Richard Scott</td>\n",
       "      <td>M</td>\n",
       "      <td>12th</td>\n",
       "      <td>Huang High School</td>\n",
       "      <td>67</td>\n",
       "      <td>58</td>\n",
       "      <td>0</td>\n",
       "      <td>0</td>\n",
       "      <td>District</td>\n",
       "      <td>2917</td>\n",
       "      <td>1910635</td>\n",
       "      <td>Charter (&gt;2740)</td>\n",
       "    </tr>\n",
       "    <tr>\n",
       "      <th>4</th>\n",
       "      <td>4</td>\n",
       "      <td>4</td>\n",
       "      <td>Bonnie Ray</td>\n",
       "      <td>F</td>\n",
       "      <td>9th</td>\n",
       "      <td>Huang High School</td>\n",
       "      <td>97</td>\n",
       "      <td>84</td>\n",
       "      <td>0</td>\n",
       "      <td>0</td>\n",
       "      <td>District</td>\n",
       "      <td>2917</td>\n",
       "      <td>1910635</td>\n",
       "      <td>Charter (&gt;2740)</td>\n",
       "    </tr>\n",
       "  </tbody>\n",
       "</table>\n",
       "</div>"
      ],
      "text/plain": [
       "   id_x  Student ID       student_name gender grade        school_name  \\\n",
       "0     0           0       Paul Bradley      M   9th  Huang High School   \n",
       "1     1           1       Victor Smith      M  12th  Huang High School   \n",
       "2     2           2    Kevin Rodriguez      M  12th  Huang High School   \n",
       "3     3           3  Dr. Richard Scott      M  12th  Huang High School   \n",
       "4     4           4         Bonnie Ray      F   9th  Huang High School   \n",
       "\n",
       "   reading_score  math_score  id_y  School ID      type  size   budget  \\\n",
       "0             66          79     0          0  District  2917  1910635   \n",
       "1             94          61     0          0  District  2917  1910635   \n",
       "2             90          60     0          0  District  2917  1910635   \n",
       "3             67          58     0          0  District  2917  1910635   \n",
       "4             97          84     0          0  District  2917  1910635   \n",
       "\n",
       "          Category  \n",
       "0  Charter (>2740)  \n",
       "1  Charter (>2740)  \n",
       "2  Charter (>2740)  \n",
       "3  Charter (>2740)  \n",
       "4  Charter (>2740)  "
      ]
     },
     "execution_count": 94,
     "metadata": {},
     "output_type": "execute_result"
    }
   ],
   "source": [
    "# Combine the data into a single dataset\n",
    "school_data_complete = pd.merge(student_data, school_data, how=\"left\", on=[\"school_name\", \"school_name\"])\n",
    "\n",
    "school_data_complete.head()"
   ]
  },
  {
   "cell_type": "markdown",
   "metadata": {},
   "source": [
    "## District Summary\n",
    "\n",
    "* Calculate the total number of schools\n",
    "\n",
    "* Calculate the total number of students\n",
    "\n",
    "* Calculate the total budget\n",
    "\n",
    "* Calculate the average math score \n",
    "\n",
    "* Calculate the average reading score\n",
    "\n",
    "* Calculate the overall passing rate (overall average score), i.e. (avg. math score + avg. reading score)/2\n",
    "\n",
    "* Calculate the percentage of students with a passing math score (70 or greater)\n",
    "\n",
    "* Calculate the percentage of students with a passing reading score (70 or greater)\n",
    "\n",
    "* Create a dataframe to hold the above results\n",
    "\n",
    "* Optional: give the displayed data cleaner formatting"
   ]
  },
  {
   "cell_type": "code",
   "execution_count": 16,
   "metadata": {},
   "outputs": [],
   "source": [
    "# Create a District Summary\n",
    "\n",
    "\n"
   ]
  },
  {
   "cell_type": "code",
   "execution_count": 18,
   "metadata": {},
   "outputs": [
    {
     "data": {
      "text/plain": [
       "15"
      ]
     },
     "execution_count": 18,
     "metadata": {},
     "output_type": "execute_result"
    }
   ],
   "source": [
    "# Total number of schools\n",
    "school_data['school_name'].count()\n",
    "\n"
   ]
  },
  {
   "cell_type": "code",
   "execution_count": 20,
   "metadata": {},
   "outputs": [
    {
     "name": "stdout",
     "output_type": "stream",
     "text": [
      "39170\n"
     ]
    }
   ],
   "source": [
    "# Total number of students\n",
    "total_students=student_data['student_name'].count()\n",
    "print(total_students)\n",
    "\n",
    "\n"
   ]
  },
  {
   "cell_type": "code",
   "execution_count": 22,
   "metadata": {},
   "outputs": [
    {
     "name": "stdout",
     "output_type": "stream",
     "text": [
      "24649428\n"
     ]
    }
   ],
   "source": [
    "# Total budget\n",
    "\n",
    "total_budget=school_data['budget'].sum()\n",
    "print(total_budget)"
   ]
  },
  {
   "cell_type": "code",
   "execution_count": 24,
   "metadata": {},
   "outputs": [
    {
     "name": "stdout",
     "output_type": "stream",
     "text": [
      "78.98537145774827\n"
     ]
    }
   ],
   "source": [
    "# Average math score\n",
    "\n",
    "math_avg=student_data['math_score'].mean()\n",
    "print(math_avg)\n"
   ]
  },
  {
   "cell_type": "code",
   "execution_count": 26,
   "metadata": {},
   "outputs": [
    {
     "name": "stdout",
     "output_type": "stream",
     "text": [
      "81.87784018381414\n"
     ]
    }
   ],
   "source": [
    "# Average reading score\n",
    "\n",
    "read_avg=student_data['reading_score'].mean()\n",
    "print(read_avg)\n"
   ]
  },
  {
   "cell_type": "code",
   "execution_count": 28,
   "metadata": {},
   "outputs": [
    {
     "name": "stdout",
     "output_type": "stream",
     "text": [
      "80.43160582078121\n"
     ]
    }
   ],
   "source": [
    "# Overall average score\n",
    "\n",
    "overall_avg=(math_avg + read_avg) / 2\n",
    "print(overall_avg)\n"
   ]
  },
  {
   "cell_type": "code",
   "execution_count": 30,
   "metadata": {},
   "outputs": [
    {
     "name": "stdout",
     "output_type": "stream",
     "text": [
      "74.9808526933878\n"
     ]
    }
   ],
   "source": [
    "# Percentage of passing math (70 or greater)\n",
    "hi=(student_data['math_score']>=70).sum()\n",
    "#print(hi)\n",
    "\n",
    "pass_math=(hi/total_students)*100\n",
    "print(pass_math)\n",
    "\n"
   ]
  },
  {
   "cell_type": "markdown",
   "metadata": {},
   "source": [
    "## School Summary"
   ]
  },
  {
   "cell_type": "markdown",
   "metadata": {},
   "source": [
    "* Create an overview table that summarizes key metrics about each school, including:\n",
    "  * School Name\n",
    "  * School Type\n",
    "  * Total Students\n",
    "  * Total School Budget\n",
    "  * Per Student Budget\n",
    "  * Average Math Score\n",
    "  * Average Reading Score\n",
    "  * % Passing Math\n",
    "  * % Passing Reading\n",
    "  * Overall Passing Rate (Average of the above two)\n",
    "  \n",
    "* Create a dataframe to hold the above results"
   ]
  },
  {
   "cell_type": "markdown",
   "metadata": {},
   "source": [
    "### Top Performing Schools (By Passing Rate)"
   ]
  },
  {
   "cell_type": "markdown",
   "metadata": {},
   "source": [
    "* Sort and display the top five schools in overall passing rate"
   ]
  },
  {
   "cell_type": "code",
   "execution_count": 36,
   "metadata": {},
   "outputs": [
    {
     "name": "stdout",
     "output_type": "stream",
     "text": [
      "school_name\n",
      "Rodriguez High School    0.529882\n",
      "Figueroa High School     0.532045\n",
      "Huang High School        0.535139\n",
      "Hernandez High School    0.535275\n",
      "Johnson High School      0.535392\n",
      "Name: overall_passing, dtype: float64\n"
     ]
    }
   ],
   "source": [
    "#  Sort and display the top five schools in overall passing rate\n",
    "student_data['overall_passing'] = (student_data['reading_score'] >= 70) & (student_data['math_score'] >= 70) #add new column\n",
    "\n",
    "passingrate_eachschool = student_data.groupby('school_name')['overall_passing'].mean()\n",
    "\n",
    "top_5 = passingrate_eachschool.sort_values().head()\n",
    "\n",
    "print(top_5)\n",
    "\n"
   ]
  },
  {
   "cell_type": "code",
   "execution_count": 38,
   "metadata": {
    "scrolled": true
   },
   "outputs": [
    {
     "name": "stdout",
     "output_type": "stream",
     "text": [
      "school_name\n",
      "Bailey High School       3124928\n",
      "Cabrera High School      1081356\n",
      "Figueroa High School     1884411\n",
      "Ford High School         1763916\n",
      "Griffin High School       917500\n",
      "Hernandez High School    3022020\n",
      "Holden High School        248087\n",
      "Huang High School        1910635\n",
      "Johnson High School      3094650\n",
      "Pena High School          585858\n",
      "Rodriguez High School    2547363\n",
      "Shelton High School      1056600\n",
      "Thomas High School       1043130\n",
      "Wilson High School       1319574\n",
      "Wright High School       1049400\n",
      "Name: budget, dtype: int64\n"
     ]
    }
   ],
   "source": [
    "# Calculate total school budget\n",
    "total_budget_eachschool = school_data.groupby('school_name')['budget'].sum()\n",
    "\n",
    "print(total_budget_eachschool)"
   ]
  },
  {
   "cell_type": "code",
   "execution_count": 40,
   "metadata": {},
   "outputs": [
    {
     "name": "stdout",
     "output_type": "stream",
     "text": [
      "school_name\n",
      "Bailey High School       4976\n",
      "Cabrera High School      1858\n",
      "Figueroa High School     2949\n",
      "Ford High School         2739\n",
      "Griffin High School      1468\n",
      "Hernandez High School    4635\n",
      "Holden High School        427\n",
      "Huang High School        2917\n",
      "Johnson High School      4761\n",
      "Pena High School          962\n",
      "Rodriguez High School    3999\n",
      "Shelton High School      1761\n",
      "Thomas High School       1635\n",
      "Wilson High School       2283\n",
      "Wright High School       1800\n",
      "dtype: int64\n",
      "student_name\n",
      "Aaron Acosta       629.293541\n",
      "Aaron Aguilar      629.293541\n",
      "Aaron Anderson     629.293541\n",
      "Aaron Atkinson     629.293541\n",
      "Aaron Bailey       629.293541\n",
      "                     ...     \n",
      "Zoe Hawkins       1258.587082\n",
      "Zoe Henry          629.293541\n",
      "Zoe Mayer          629.293541\n",
      "Zoe Mcmillan       629.293541\n",
      "Zoe Meyer          629.293541\n",
      "Name: budget_per_student, Length: 32715, dtype: float64\n"
     ]
    }
   ],
   "source": [
    "# Calculate per student budget\n",
    "\n",
    "merge=student_data.merge(school_data, \n",
    "           how='inner', \n",
    "           on='school_name')\n",
    "#print(merge)\n",
    "\n",
    "number_of_students_eachschool=merge.groupby('school_name').size()\n",
    "print(number_of_students_eachschool)\n",
    "\n",
    "\n",
    "#add newcolumn for budget each student\n",
    "merge['budget_per_student']=total_budget/total_students\n",
    "\n",
    "\n",
    "\n",
    "show_budget_eachstudent = merge.groupby('student_name')['budget_per_student'].sum()\n",
    "print(show_budget_eachstudent)\n",
    "\n"
   ]
  },
  {
   "cell_type": "code",
   "execution_count": 42,
   "metadata": {},
   "outputs": [
    {
     "name": "stdout",
     "output_type": "stream",
     "text": [
      "                       math_score  reading_score\n",
      "school_name                                     \n",
      "Bailey High School      77.048432      81.033963\n",
      "Cabrera High School     83.061895      83.975780\n",
      "Figueroa High School    76.711767      81.158020\n",
      "Ford High School        77.102592      80.746258\n",
      "Griffin High School     83.351499      83.816757\n",
      "Hernandez High School   77.289752      80.934412\n",
      "Holden High School      83.803279      83.814988\n",
      "Huang High School       76.629414      81.182722\n",
      "Johnson High School     77.072464      80.966394\n",
      "Pena High School        83.839917      84.044699\n",
      "Rodriguez High School   76.842711      80.744686\n",
      "Shelton High School     83.359455      83.725724\n",
      "Thomas High School      83.418349      83.848930\n",
      "Wilson High School      83.274201      83.989488\n",
      "Wright High School      83.682222      83.955000\n"
     ]
    }
   ],
   "source": [
    "# Calcuate the avg math and reading score\n",
    "avg_math_read = merge.groupby('school_name')[['math_score', 'reading_score']].mean()\n",
    "\n",
    "print(avg_math_read)\n"
   ]
  },
  {
   "cell_type": "markdown",
   "metadata": {},
   "source": [
    "#### Find the passing rate for math and reading (above 70 points)"
   ]
  },
  {
   "cell_type": "code",
   "execution_count": 45,
   "metadata": {},
   "outputs": [
    {
     "name": "stdout",
     "output_type": "stream",
     "text": [
      "39170\n",
      "school_name\n",
      "Bailey High School       3318\n",
      "Cabrera High School      1749\n",
      "Figueroa High School     1946\n",
      "Ford High School         1871\n",
      "Griffin High School      1371\n",
      "Hernandez High School    3094\n",
      "Holden High School        395\n",
      "Huang High School        1916\n",
      "Johnson High School      3145\n",
      "Pena High School          910\n",
      "Rodriguez High School    2654\n",
      "Shelton High School      1653\n",
      "Thomas High School       1525\n",
      "Wilson High School       2143\n",
      "Wright High School       1680\n",
      "dtype: int64\n",
      "school_name\n",
      "Bailey High School       66.680064\n",
      "Cabrera High School      94.133477\n",
      "Figueroa High School     65.988471\n",
      "Ford High School         68.309602\n",
      "Griffin High School      93.392371\n",
      "Hernandez High School    66.752967\n",
      "Holden High School       92.505855\n",
      "Huang High School        65.683922\n",
      "Johnson High School      66.057551\n",
      "Pena High School         94.594595\n",
      "Rodriguez High School    66.366592\n",
      "Shelton High School      93.867121\n",
      "Thomas High School       93.272171\n",
      "Wilson High School       93.867718\n",
      "Wright High School       93.333333\n",
      "dtype: float64\n"
     ]
    }
   ],
   "source": [
    "# Find the total counts of math result\n",
    "total_math_count = merge['math_score'].count()\n",
    "print(total_math_count)\n",
    "\n",
    "# Find the counts for math result in each school that pass 70 or higher\n",
    "\n",
    "passed_math = merge[merge['math_score'] >= 70]\n",
    "\n",
    "passed_math_counts = passed_math.groupby('school_name').size()\n",
    "print(passed_math_counts)\n",
    "\n",
    "# Calculate the math passing rate\n",
    "total_math_counts_each_school = merge.groupby('school_name').size()\n",
    "\n",
    "passed_math_rate = (passed_math_counts / total_math_counts_each_school) * 100\n",
    "\n",
    "print(passed_math_rate)\n",
    "\n"
   ]
  },
  {
   "cell_type": "code",
   "execution_count": 47,
   "metadata": {},
   "outputs": [
    {
     "name": "stdout",
     "output_type": "stream",
     "text": [
      "39170\n",
      "school_name\n",
      "Bailey High School       4077\n",
      "Cabrera High School      1803\n",
      "Figueroa High School     2381\n",
      "Ford High School         2172\n",
      "Griffin High School      1426\n",
      "Hernandez High School    3748\n",
      "Holden High School        411\n",
      "Huang High School        2372\n",
      "Johnson High School      3867\n",
      "Pena High School          923\n",
      "Rodriguez High School    3208\n",
      "Shelton High School      1688\n",
      "Thomas High School       1591\n",
      "Wilson High School       2204\n",
      "Wright High School       1739\n",
      "dtype: int64\n",
      "school_name\n",
      "Bailey High School       81.933280\n",
      "Cabrera High School      97.039828\n",
      "Figueroa High School     80.739234\n",
      "Ford High School         79.299014\n",
      "Griffin High School      97.138965\n",
      "Hernandez High School    80.862999\n",
      "Holden High School       96.252927\n",
      "Huang High School        81.316421\n",
      "Johnson High School      81.222432\n",
      "Pena High School         95.945946\n",
      "Rodriguez High School    80.220055\n",
      "Shelton High School      95.854628\n",
      "Thomas High School       97.308869\n",
      "Wilson High School       96.539641\n",
      "Wright High School       96.611111\n",
      "dtype: float64\n"
     ]
    }
   ],
   "source": [
    "# Find the total counts of read result\n",
    "total_reading_count = merge['reading_score'].count()\n",
    "print(total_reading_count)\n",
    "\n",
    "# Find the counts for read result in each school that pass 70 or higher\n",
    "passed_reading = merge[merge['reading_score'] >= 70]\n",
    "\n",
    "passed_reading_counts = passed_reading.groupby('school_name').size()\n",
    "print(passed_reading_counts)\n",
    "\n",
    "# Calculate the read passing rate\n",
    "total_reading_counts_each_school = merge.groupby('school_name').size()\n",
    "\n",
    "passed_reading_rate = (passed_reading_counts / total_reading_counts_each_school) * 100\n",
    "\n",
    "print(passed_reading_rate)\n"
   ]
  },
  {
   "cell_type": "code",
   "execution_count": 49,
   "metadata": {},
   "outputs": [
    {
     "name": "stdout",
     "output_type": "stream",
     "text": [
      "school_name\n",
      "Bailey High School       74.306672\n",
      "Cabrera High School      95.586652\n",
      "Figueroa High School     73.363852\n",
      "Ford High School         73.804308\n",
      "Griffin High School      95.265668\n",
      "Hernandez High School    73.807983\n",
      "Holden High School       94.379391\n",
      "Huang High School        73.500171\n",
      "Johnson High School      73.639992\n",
      "Pena High School         95.270270\n",
      "Rodriguez High School    73.293323\n",
      "Shelton High School      94.860875\n",
      "Thomas High School       95.290520\n",
      "Wilson High School       95.203679\n",
      "Wright High School       94.972222\n",
      "dtype: float64\n"
     ]
    }
   ],
   "source": [
    "# Calculate the overall passing rate (average of the math and reading passing rate)\n",
    "\n",
    "overall_passing_rate = (passed_math_rate + passed_reading_rate) / 2\n",
    "print(overall_passing_rate)\n"
   ]
  },
  {
   "cell_type": "code",
   "execution_count": null,
   "metadata": {},
   "outputs": [],
   "source": []
  },
  {
   "cell_type": "code",
   "execution_count": null,
   "metadata": {},
   "outputs": [],
   "source": []
  },
  {
   "cell_type": "code",
   "execution_count": null,
   "metadata": {},
   "outputs": [],
   "source": []
  },
  {
   "cell_type": "markdown",
   "metadata": {},
   "source": [
    "### Bottom Performing Schools (By Passing Rate)"
   ]
  },
  {
   "cell_type": "markdown",
   "metadata": {},
   "source": [
    "* Sort and display the five worst-performing schools"
   ]
  },
  {
   "cell_type": "code",
   "execution_count": 56,
   "metadata": {},
   "outputs": [
    {
     "name": "stdout",
     "output_type": "stream",
     "text": [
      "school_name\n",
      "Pena High School       0.000000\n",
      "Griffin High School    0.000681\n",
      "Cabrera High School    0.001615\n",
      "Shelton High School    0.001704\n",
      "Wilson High School     0.001752\n",
      "Name: overall_passing, dtype: float64\n"
     ]
    }
   ],
   "source": [
    "#  Sort and display the worst five schools in overall passing rate\n",
    "\n",
    "student_data['overall_passing'] = (student_data['reading_score'] < 70) & (student_data['math_score'] < 70) #add new column\n",
    "\n",
    "passingrate_eachschool = student_data.groupby('school_name')['overall_passing'].mean()\n",
    "\n",
    "bottom_5 = passingrate_eachschool.sort_values().head()\n",
    "\n",
    "print(bottom_5)\n"
   ]
  },
  {
   "cell_type": "markdown",
   "metadata": {
    "collapsed": true,
    "jupyter": {
     "outputs_hidden": true
    }
   },
   "source": [
    "## Math Scores by Grade"
   ]
  },
  {
   "cell_type": "markdown",
   "metadata": {},
   "source": [
    "* Create a table that lists the average Reading Score for students of each grade level (9th, 10th, 11th, 12th) at each school.\n",
    "\n",
    "  * Create a pandas series for each grade. Hint: use a conditional statement.\n",
    "  \n",
    "  * Group each series by school\n",
    "  \n",
    "  * Combine the series into a dataframe\n",
    "  \n",
    "  * Optional: give the displayed data cleaner formatting"
   ]
  },
  {
   "cell_type": "code",
   "execution_count": 60,
   "metadata": {},
   "outputs": [
    {
     "name": "stdout",
     "output_type": "stream",
     "text": [
      "school_name            grade\n",
      "Bailey High School     10th     76.996772\n",
      "                       11th     77.515588\n",
      "                       12th     76.492218\n",
      "                       9th      77.083676\n",
      "Cabrera High School    10th     83.154506\n",
      "                       11th     82.765560\n",
      "                       12th     83.277487\n",
      "                       9th      83.094697\n",
      "Figueroa High School   10th     76.539974\n",
      "                       11th     76.884344\n",
      "                       12th     77.151369\n",
      "                       9th      76.403037\n",
      "Ford High School       10th     77.672316\n",
      "                       11th     76.918058\n",
      "                       12th     76.179963\n",
      "                       9th      77.361345\n",
      "Griffin High School    10th     84.229064\n",
      "                       11th     83.842105\n",
      "                       12th     83.356164\n",
      "                       9th      82.044010\n",
      "Hernandez High School  10th     77.337408\n",
      "                       11th     77.136029\n",
      "                       12th     77.186567\n",
      "                       9th      77.438495\n",
      "Holden High School     10th     83.429825\n",
      "                       11th     85.000000\n",
      "                       12th     82.855422\n",
      "                       9th      83.787402\n",
      "Huang High School      10th     75.908735\n",
      "                       11th     76.446602\n",
      "                       12th     77.225641\n",
      "                       9th      77.027251\n",
      "Johnson High School    10th     76.691117\n",
      "                       11th     77.491653\n",
      "                       12th     76.863248\n",
      "                       9th      77.187857\n",
      "Pena High School       10th     83.372000\n",
      "                       11th     84.328125\n",
      "                       12th     84.121547\n",
      "                       9th      83.625455\n",
      "Rodriguez High School  10th     76.612500\n",
      "                       11th     76.395626\n",
      "                       12th     77.690748\n",
      "                       9th      76.859966\n",
      "Shelton High School    10th     82.917411\n",
      "                       11th     83.383495\n",
      "                       12th     83.778976\n",
      "                       9th      83.420755\n",
      "Thomas High School     10th     83.087886\n",
      "                       11th     83.498795\n",
      "                       12th     83.497041\n",
      "                       9th      83.590022\n",
      "Wilson High School     10th     83.724422\n",
      "                       11th     83.195326\n",
      "                       12th     83.035794\n",
      "                       9th      83.085578\n",
      "Wright High School     10th     84.010288\n",
      "                       11th     83.836782\n",
      "                       12th     83.644986\n",
      "                       9th      83.264706\n",
      "Name: math_score, dtype: float64\n"
     ]
    }
   ],
   "source": [
    "# Create table that lists the average math score for each school of each grade level.\n",
    "average_math_score_by_grade = merge.groupby(['school_name', 'grade'])['math_score'].mean()\n",
    "print(average_math_score_by_grade)\n",
    "\n",
    "\n"
   ]
  },
  {
   "cell_type": "code",
   "execution_count": 62,
   "metadata": {},
   "outputs": [
    {
     "name": "stdout",
     "output_type": "stream",
     "text": [
      "school_name\n",
      "Bailey High School       77.083676\n",
      "Cabrera High School      83.094697\n",
      "Figueroa High School     76.403037\n",
      "Ford High School         77.361345\n",
      "Griffin High School      82.044010\n",
      "Hernandez High School    77.438495\n",
      "Holden High School       83.787402\n",
      "Huang High School        77.027251\n",
      "Johnson High School      77.187857\n",
      "Pena High School         83.625455\n",
      "Rodriguez High School    76.859966\n",
      "Shelton High School      83.420755\n",
      "Thomas High School       83.590022\n",
      "Wilson High School       83.085578\n",
      "Wright High School       83.264706\n",
      "Name: math_score, dtype: float64\n"
     ]
    }
   ],
   "source": [
    "# Calculate the average math score for 9th grade in each school\n",
    "\n",
    "average_math_score_9th_grade = merge[merge['grade'] == '9th'].groupby('school_name')['math_score'].mean()\n",
    "\n",
    "print(average_math_score_9th_grade)\n"
   ]
  },
  {
   "cell_type": "code",
   "execution_count": 54,
   "metadata": {},
   "outputs": [
    {
     "name": "stdout",
     "output_type": "stream",
     "text": [
      "school_name\n",
      "Bailey High School       76.996772\n",
      "Cabrera High School      83.154506\n",
      "Figueroa High School     76.539974\n",
      "Ford High School         77.672316\n",
      "Griffin High School      84.229064\n",
      "Hernandez High School    77.337408\n",
      "Holden High School       83.429825\n",
      "Huang High School        75.908735\n",
      "Johnson High School      76.691117\n",
      "Pena High School         83.372000\n",
      "Rodriguez High School    76.612500\n",
      "Shelton High School      82.917411\n",
      "Thomas High School       83.087886\n",
      "Wilson High School       83.724422\n",
      "Wright High School       84.010288\n",
      "Name: math_score, dtype: float64\n"
     ]
    }
   ],
   "source": [
    "# Calculate the average math score for 10th grade in each school\n",
    "average_math_score_10th_grade = merge[merge['grade'] == '10th'].groupby('school_name')['math_score'].mean()\n",
    "\n",
    "print(average_math_score_10th_grade)\n",
    "\n"
   ]
  },
  {
   "cell_type": "code",
   "execution_count": 56,
   "metadata": {},
   "outputs": [
    {
     "name": "stdout",
     "output_type": "stream",
     "text": [
      "school_name\n",
      "Bailey High School       77.515588\n",
      "Cabrera High School      82.765560\n",
      "Figueroa High School     76.884344\n",
      "Ford High School         76.918058\n",
      "Griffin High School      83.842105\n",
      "Hernandez High School    77.136029\n",
      "Holden High School       85.000000\n",
      "Huang High School        76.446602\n",
      "Johnson High School      77.491653\n",
      "Pena High School         84.328125\n",
      "Rodriguez High School    76.395626\n",
      "Shelton High School      83.383495\n",
      "Thomas High School       83.498795\n",
      "Wilson High School       83.195326\n",
      "Wright High School       83.836782\n",
      "Name: math_score, dtype: float64\n"
     ]
    }
   ],
   "source": [
    "# Calculate the average math score for 11th grade in each school\n",
    "\n",
    "average_math_score_11th_grade = merge[merge['grade'] == '11th'].groupby('school_name')['math_score'].mean()\n",
    "\n",
    "print(average_math_score_11th_grade)\n"
   ]
  },
  {
   "cell_type": "code",
   "execution_count": 58,
   "metadata": {},
   "outputs": [
    {
     "name": "stdout",
     "output_type": "stream",
     "text": [
      "school_name\n",
      "Bailey High School       76.492218\n",
      "Cabrera High School      83.277487\n",
      "Figueroa High School     77.151369\n",
      "Ford High School         76.179963\n",
      "Griffin High School      83.356164\n",
      "Hernandez High School    77.186567\n",
      "Holden High School       82.855422\n",
      "Huang High School        77.225641\n",
      "Johnson High School      76.863248\n",
      "Pena High School         84.121547\n",
      "Rodriguez High School    77.690748\n",
      "Shelton High School      83.778976\n",
      "Thomas High School       83.497041\n",
      "Wilson High School       83.035794\n",
      "Wright High School       83.644986\n",
      "Name: math_score, dtype: float64\n"
     ]
    }
   ],
   "source": [
    "# Calculate the average math score for 12th grade in each school\n",
    "\n",
    "average_math_score_12th_grade = merge[merge['grade'] == '12th'].groupby('school_name')['math_score'].mean()\n",
    "\n",
    "print(average_math_score_12th_grade)\n"
   ]
  },
  {
   "cell_type": "markdown",
   "metadata": {},
   "source": [
    "### Reading Score by Grade "
   ]
  },
  {
   "cell_type": "markdown",
   "metadata": {},
   "source": [
    "* Perform the same operations as above for reading scores"
   ]
  },
  {
   "cell_type": "code",
   "execution_count": 62,
   "metadata": {},
   "outputs": [
    {
     "name": "stdout",
     "output_type": "stream",
     "text": [
      "school_name            grade\n",
      "Bailey High School     10th     80.907183\n",
      "                       11th     80.945643\n",
      "                       12th     80.912451\n",
      "                       9th      81.303155\n",
      "Cabrera High School    10th     84.253219\n",
      "                       11th     83.788382\n",
      "                       12th     84.287958\n",
      "                       9th      83.676136\n",
      "Figueroa High School   10th     81.408912\n",
      "                       11th     80.640339\n",
      "                       12th     81.384863\n",
      "                       9th      81.198598\n",
      "Ford High School       10th     81.262712\n",
      "                       11th     80.403642\n",
      "                       12th     80.662338\n",
      "                       9th      80.632653\n",
      "Griffin High School    10th     83.706897\n",
      "                       11th     84.288089\n",
      "                       12th     84.013699\n",
      "                       9th      83.369193\n",
      "Hernandez High School  10th     80.660147\n",
      "                       11th     81.396140\n",
      "                       12th     80.857143\n",
      "                       9th      80.866860\n",
      "Holden High School     10th     83.324561\n",
      "                       11th     83.815534\n",
      "                       12th     84.698795\n",
      "                       9th      83.677165\n",
      "Huang High School      10th     81.512386\n",
      "                       11th     81.417476\n",
      "                       12th     80.305983\n",
      "                       9th      81.290284\n",
      "Johnson High School    10th     80.773431\n",
      "                       11th     80.616027\n",
      "                       12th     81.227564\n",
      "                       9th      81.260714\n",
      "Pena High School       10th     83.612000\n",
      "                       11th     84.335938\n",
      "                       12th     84.591160\n",
      "                       9th      83.807273\n",
      "Rodriguez High School  10th     80.629808\n",
      "                       11th     80.864811\n",
      "                       12th     80.376426\n",
      "                       9th      80.993127\n",
      "Shelton High School    10th     83.441964\n",
      "                       11th     84.373786\n",
      "                       12th     82.781671\n",
      "                       9th      84.122642\n",
      "Thomas High School     10th     84.254157\n",
      "                       11th     83.585542\n",
      "                       12th     83.831361\n",
      "                       9th      83.728850\n",
      "Wilson High School     10th     84.021452\n",
      "                       11th     83.764608\n",
      "                       12th     84.317673\n",
      "                       9th      83.939778\n",
      "Wright High School     10th     83.812757\n",
      "                       11th     84.156322\n",
      "                       12th     84.073171\n",
      "                       9th      83.833333\n",
      "Name: reading_score, dtype: float64\n"
     ]
    }
   ],
   "source": [
    "# Create table that lists the average reading score for each school of each grade level.\n",
    "average_reading_score_by_grade = merge.groupby(['school_name', 'grade'])['reading_score'].mean()\n",
    "print(average_reading_score_by_grade)"
   ]
  },
  {
   "cell_type": "code",
   "execution_count": 64,
   "metadata": {},
   "outputs": [
    {
     "name": "stdout",
     "output_type": "stream",
     "text": [
      "school_name\n",
      "Bailey High School       81.303155\n",
      "Cabrera High School      83.676136\n",
      "Figueroa High School     81.198598\n",
      "Ford High School         80.632653\n",
      "Griffin High School      83.369193\n",
      "Hernandez High School    80.866860\n",
      "Holden High School       83.677165\n",
      "Huang High School        81.290284\n",
      "Johnson High School      81.260714\n",
      "Pena High School         83.807273\n",
      "Rodriguez High School    80.993127\n",
      "Shelton High School      84.122642\n",
      "Thomas High School       83.728850\n",
      "Wilson High School       83.939778\n",
      "Wright High School       83.833333\n",
      "Name: reading_score, dtype: float64\n"
     ]
    }
   ],
   "source": [
    "# Calculate the average reading score for 9th grade in each school\n",
    "\n",
    "average_reading_score_9th_grade = merge[merge['grade'] == '9th'].groupby('school_name')['reading_score'].mean()\n",
    "\n",
    "print(average_reading_score_9th_grade)\n"
   ]
  },
  {
   "cell_type": "code",
   "execution_count": 66,
   "metadata": {},
   "outputs": [
    {
     "name": "stdout",
     "output_type": "stream",
     "text": [
      "school_name\n",
      "Bailey High School       80.907183\n",
      "Cabrera High School      84.253219\n",
      "Figueroa High School     81.408912\n",
      "Ford High School         81.262712\n",
      "Griffin High School      83.706897\n",
      "Hernandez High School    80.660147\n",
      "Holden High School       83.324561\n",
      "Huang High School        81.512386\n",
      "Johnson High School      80.773431\n",
      "Pena High School         83.612000\n",
      "Rodriguez High School    80.629808\n",
      "Shelton High School      83.441964\n",
      "Thomas High School       84.254157\n",
      "Wilson High School       84.021452\n",
      "Wright High School       83.812757\n",
      "Name: reading_score, dtype: float64\n"
     ]
    }
   ],
   "source": [
    "# Calculate the average reading score for 10th grade in each school\n",
    "\n",
    "average_reading_score_10th_grade = merge[merge['grade'] == '10th'].groupby('school_name')['reading_score'].mean()\n",
    "\n",
    "print(average_reading_score_10th_grade)\n"
   ]
  },
  {
   "cell_type": "code",
   "execution_count": 68,
   "metadata": {},
   "outputs": [
    {
     "name": "stdout",
     "output_type": "stream",
     "text": [
      "school_name\n",
      "Bailey High School       80.945643\n",
      "Cabrera High School      83.788382\n",
      "Figueroa High School     80.640339\n",
      "Ford High School         80.403642\n",
      "Griffin High School      84.288089\n",
      "Hernandez High School    81.396140\n",
      "Holden High School       83.815534\n",
      "Huang High School        81.417476\n",
      "Johnson High School      80.616027\n",
      "Pena High School         84.335938\n",
      "Rodriguez High School    80.864811\n",
      "Shelton High School      84.373786\n",
      "Thomas High School       83.585542\n",
      "Wilson High School       83.764608\n",
      "Wright High School       84.156322\n",
      "Name: reading_score, dtype: float64\n"
     ]
    }
   ],
   "source": [
    "# Calculate the average reading score for 11th grade in each school\n",
    "\n",
    "average_reading_score_11th_grade = merge[merge['grade'] == '11th'].groupby('school_name')['reading_score'].mean()\n",
    "\n",
    "print(average_reading_score_11th_grade)\n"
   ]
  },
  {
   "cell_type": "code",
   "execution_count": 70,
   "metadata": {},
   "outputs": [
    {
     "name": "stdout",
     "output_type": "stream",
     "text": [
      "school_name\n",
      "Bailey High School       80.912451\n",
      "Cabrera High School      84.287958\n",
      "Figueroa High School     81.384863\n",
      "Ford High School         80.662338\n",
      "Griffin High School      84.013699\n",
      "Hernandez High School    80.857143\n",
      "Holden High School       84.698795\n",
      "Huang High School        80.305983\n",
      "Johnson High School      81.227564\n",
      "Pena High School         84.591160\n",
      "Rodriguez High School    80.376426\n",
      "Shelton High School      82.781671\n",
      "Thomas High School       83.831361\n",
      "Wilson High School       84.317673\n",
      "Wright High School       84.073171\n",
      "Name: reading_score, dtype: float64\n"
     ]
    }
   ],
   "source": [
    "# Calculate the average reading score for 12th grade in each school\n",
    "\n",
    "average_reading_score_12th_grade = merge[merge['grade'] == '12th'].groupby('school_name')['reading_score'].mean()\n",
    "\n",
    "print(average_reading_score_12th_grade)\n"
   ]
  },
  {
   "cell_type": "markdown",
   "metadata": {},
   "source": [
    "## Scores by School Spending"
   ]
  },
  {
   "cell_type": "code",
   "execution_count": 130,
   "metadata": {},
   "outputs": [
    {
     "ename": "SyntaxError",
     "evalue": "invalid syntax (1195954758.py, line 1)",
     "output_type": "error",
     "traceback": [
      "\u001b[0;36m  Cell \u001b[0;32mIn[130], line 1\u001b[0;36m\u001b[0m\n\u001b[0;31m    * Create a table that breaks down school performances based on average Spending Ranges (Per Student). Use 4 reasonable bins to group school spending. Include in the table each of the following:\u001b[0m\n\u001b[0m             ^\u001b[0m\n\u001b[0;31mSyntaxError\u001b[0m\u001b[0;31m:\u001b[0m invalid syntax\n"
     ]
    }
   ],
   "source": [
    "* Create a table that breaks down school performances based on average Spending Ranges (Per Student). Use 4 reasonable bins to group school spending. Include in the table each of the following:\n",
    "  * Average Math Score\n",
    "  * Average Reading Score\n",
    "  * % Passing Math\n",
    "  * % Passing Reading\n",
    "  * Overall Passing Rate (Average of the above two)"
   ]
  },
  {
   "cell_type": "code",
   "execution_count": 132,
   "metadata": {},
   "outputs": [],
   "source": [
    "# Sample bins. Feel free to create your own bins.\n",
    "spending_bins = [0, 585, 615, 645, 675]\n",
    "group_names = [\"<$585\", \"$585-615\", \"$615-645\", \"$645-675\"]"
   ]
  },
  {
   "cell_type": "code",
   "execution_count": 134,
   "metadata": {},
   "outputs": [
    {
     "name": "stdout",
     "output_type": "stream",
     "text": [
      "student_name    budget_per_student\n",
      "Aaron Acosta    629.293541            1\n",
      "Aaron Aguilar   629.293541            1\n",
      "Aaron Anderson  629.293541            1\n",
      "Aaron Atkinson  629.293541            1\n",
      "Aaron Bailey    629.293541            1\n",
      "                                     ..\n",
      "Zoe Hawkins     629.293541            2\n",
      "Zoe Henry       629.293541            1\n",
      "Zoe Mayer       629.293541            1\n",
      "Zoe Mcmillan    629.293541            1\n",
      "Zoe Meyer       629.293541            1\n",
      "Name: count, Length: 32715, dtype: int64\n"
     ]
    }
   ],
   "source": [
    "# Create a new column to show budget per student in each row\n",
    "budget_perstudent=merge.groupby('student_name')['budget_per_student'].value_counts()\n",
    "print(budget_perstudent)"
   ]
  },
  {
   "cell_type": "code",
   "execution_count": 136,
   "metadata": {},
   "outputs": [
    {
     "name": "stdout",
     "output_type": "stream",
     "text": [
      "            student_name  budget_per_student Spending_Range\n",
      "0           Paul Bradley          629.293541     (615, 645]\n",
      "1           Victor Smith          629.293541     (615, 645]\n",
      "2        Kevin Rodriguez          629.293541     (615, 645]\n",
      "3      Dr. Richard Scott          629.293541     (615, 645]\n",
      "4             Bonnie Ray          629.293541     (615, 645]\n",
      "...                  ...                 ...            ...\n",
      "39165       Donna Howard          629.293541     (615, 645]\n",
      "39166          Dawn Bell          629.293541     (615, 645]\n",
      "39167     Rebecca Tanner          629.293541     (615, 645]\n",
      "39168       Desiree Kidd          629.293541     (615, 645]\n",
      "39169    Carolyn Jackson          629.293541     (615, 645]\n",
      "\n",
      "[39170 rows x 3 columns]\n"
     ]
    }
   ],
   "source": [
    "# Create a new column to define the spending ranges per student\n",
    "#use cut()\n",
    "merge['Spending_Range']= pd.cut(merge['budget_per_student'],spending_bins,group_names)\n",
    "\n",
    "\n",
    "print(merge[['student_name', 'budget_per_student','Spending_Range']])"
   ]
  },
  {
   "cell_type": "code",
   "execution_count": 138,
   "metadata": {},
   "outputs": [
    {
     "name": "stdout",
     "output_type": "stream",
     "text": [
      "      Spending_Range  average_mathscore\n",
      "0         (615, 645]          78.985371\n",
      "1         (615, 645]          78.985371\n",
      "2         (615, 645]          78.985371\n",
      "3         (615, 645]          78.985371\n",
      "4         (615, 645]          78.985371\n",
      "...              ...                ...\n",
      "39165     (615, 645]          78.985371\n",
      "39166     (615, 645]          78.985371\n",
      "39167     (615, 645]          78.985371\n",
      "39168     (615, 645]          78.985371\n",
      "39169     (615, 645]          78.985371\n",
      "\n",
      "[39170 rows x 2 columns]\n"
     ]
    }
   ],
   "source": [
    "# Calculate the average math score within each spending range\n",
    "\n",
    "merge['Spending_Range']= pd.cut(merge['budget_per_student'],spending_bins,group_names)\n",
    "\n",
    "\n",
    "merge['average_mathscore']=merge['math_score'].mean()\n",
    "\n",
    "print(merge[['Spending_Range','average_mathscore']])"
   ]
  },
  {
   "cell_type": "code",
   "execution_count": 140,
   "metadata": {},
   "outputs": [
    {
     "name": "stdout",
     "output_type": "stream",
     "text": [
      "       percentage_pass_math Spending_Range\n",
      "0                 74.980853     (615, 645]\n",
      "1                 74.980853     (615, 645]\n",
      "2                 74.980853     (615, 645]\n",
      "3                 74.980853     (615, 645]\n",
      "4                 74.980853     (615, 645]\n",
      "...                     ...            ...\n",
      "39165             74.980853     (615, 645]\n",
      "39166             74.980853     (615, 645]\n",
      "39167             74.980853     (615, 645]\n",
      "39168             74.980853     (615, 645]\n",
      "39169             74.980853     (615, 645]\n",
      "\n",
      "[39170 rows x 2 columns]\n"
     ]
    }
   ],
   "source": [
    "# Calculate the percentage passing rate for math in each spending range\n",
    "\n",
    "merge['Spending_Range']= pd.cut(merge['budget_per_student'],spending_bins,group_names)\n",
    "\n",
    "merge['percentage_pass_math']=((merge['math_score']>=70).sum())/(total_students)*100\n",
    "\n",
    "print(merge[['percentage_pass_math','Spending_Range']])\n",
    "\n",
    "\n"
   ]
  },
  {
   "cell_type": "code",
   "execution_count": 142,
   "metadata": {},
   "outputs": [
    {
     "name": "stdout",
     "output_type": "stream",
     "text": [
      "       percentage_pass_reading Spending_Range\n",
      "0                    85.805463     (615, 645]\n",
      "1                    85.805463     (615, 645]\n",
      "2                    85.805463     (615, 645]\n",
      "3                    85.805463     (615, 645]\n",
      "4                    85.805463     (615, 645]\n",
      "...                        ...            ...\n",
      "39165                85.805463     (615, 645]\n",
      "39166                85.805463     (615, 645]\n",
      "39167                85.805463     (615, 645]\n",
      "39168                85.805463     (615, 645]\n",
      "39169                85.805463     (615, 645]\n",
      "\n",
      "[39170 rows x 2 columns]\n"
     ]
    }
   ],
   "source": [
    "# Calculate the percentage passing rate for reading in each spending range\n",
    "merge['Spending_Range']= pd.cut(merge['budget_per_student'],spending_bins,group_names)\n",
    "\n",
    "merge['percentage_pass_reading']=((merge['reading_score']>=70).sum())/(total_students)*100\n",
    "print(merge[['percentage_pass_reading','Spending_Range']])\n"
   ]
  },
  {
   "cell_type": "code",
   "execution_count": 144,
   "metadata": {},
   "outputs": [
    {
     "name": "stdout",
     "output_type": "stream",
     "text": [
      "80.43160582078121\n",
      "       overall_passing Spending_Range\n",
      "0            80.431606     (615, 645]\n",
      "1            80.431606     (615, 645]\n",
      "2            80.431606     (615, 645]\n",
      "3            80.431606     (615, 645]\n",
      "4            80.431606     (615, 645]\n",
      "...                ...            ...\n",
      "39165        80.431606     (615, 645]\n",
      "39166        80.431606     (615, 645]\n",
      "39167        80.431606     (615, 645]\n",
      "39168        80.431606     (615, 645]\n",
      "39169        80.431606     (615, 645]\n",
      "\n",
      "[39170 rows x 2 columns]\n"
     ]
    }
   ],
   "source": [
    "# Calculate the percentage overall passing rate in each spending range\n",
    "merge['Spending_Range']= pd.cut(merge['budget_per_student'],spending_bins,group_names)\n",
    "merge['overall_passing']=(math_avg + read_avg) / 2\n",
    "print(overall_avg)\n",
    "print(merge[['overall_passing','Spending_Range']])\n"
   ]
  },
  {
   "cell_type": "markdown",
   "metadata": {},
   "source": [
    "### Scores by School Size"
   ]
  },
  {
   "cell_type": "markdown",
   "metadata": {},
   "source": [
    "* Perform the same operations as above, based on school size."
   ]
  },
  {
   "cell_type": "code",
   "execution_count": 148,
   "metadata": {},
   "outputs": [],
   "source": [
    "# Sample bins. Feel free to create your own bins.\n",
    "size_bins = [0, 1000, 2000, 5000]\n",
    "group_names = [\"Small (<1000)\", \"Medium (1000-2000)\", \"Large (2000-5000)\"]"
   ]
  },
  {
   "cell_type": "code",
   "execution_count": 150,
   "metadata": {
    "scrolled": true
   },
   "outputs": [],
   "source": [
    "# Create a new column for the bin groups\n",
    "merge['size_range']=pd.cut(merge['size'],size_bins,group_names)\n"
   ]
  },
  {
   "cell_type": "markdown",
   "metadata": {},
   "source": [
    "Look for the total count of test scores that pass 70% or higher\n",
    "\n",
    "\n"
   ]
  },
  {
   "cell_type": "code",
   "execution_count": 153,
   "metadata": {},
   "outputs": [
    {
     "name": "stdout",
     "output_type": "stream",
     "text": [
      "school_name            size_range  \n",
      "Bailey High School     (0, 1000]          0\n",
      "                       (1000, 2000]       0\n",
      "                       (2000, 5000]    3318\n",
      "Cabrera High School    (0, 1000]          0\n",
      "                       (1000, 2000]    1749\n",
      "                       (2000, 5000]       0\n",
      "Figueroa High School   (0, 1000]          0\n",
      "                       (1000, 2000]       0\n",
      "                       (2000, 5000]    1946\n",
      "Ford High School       (0, 1000]          0\n",
      "                       (1000, 2000]       0\n",
      "                       (2000, 5000]    1871\n",
      "Griffin High School    (0, 1000]          0\n",
      "                       (1000, 2000]    1371\n",
      "                       (2000, 5000]       0\n",
      "Hernandez High School  (0, 1000]          0\n",
      "                       (1000, 2000]       0\n",
      "                       (2000, 5000]    3094\n",
      "Holden High School     (0, 1000]        395\n",
      "                       (1000, 2000]       0\n",
      "                       (2000, 5000]       0\n",
      "Huang High School      (0, 1000]          0\n",
      "                       (1000, 2000]       0\n",
      "                       (2000, 5000]    1916\n",
      "Johnson High School    (0, 1000]          0\n",
      "                       (1000, 2000]       0\n",
      "                       (2000, 5000]    3145\n",
      "Pena High School       (0, 1000]        910\n",
      "                       (1000, 2000]       0\n",
      "                       (2000, 5000]       0\n",
      "Rodriguez High School  (0, 1000]          0\n",
      "                       (1000, 2000]       0\n",
      "                       (2000, 5000]    2654\n",
      "Shelton High School    (0, 1000]          0\n",
      "                       (1000, 2000]    1653\n",
      "                       (2000, 5000]       0\n",
      "Thomas High School     (0, 1000]          0\n",
      "                       (1000, 2000]    1525\n",
      "                       (2000, 5000]       0\n",
      "Wilson High School     (0, 1000]          0\n",
      "                       (1000, 2000]       0\n",
      "                       (2000, 5000]    2143\n",
      "Wright High School     (0, 1000]          0\n",
      "                       (1000, 2000]    1680\n",
      "                       (2000, 5000]       0\n",
      "dtype: int64\n"
     ]
    },
    {
     "name": "stderr",
     "output_type": "stream",
     "text": [
      "/var/folders/sz/vjzx_ntj38v1_t2lkqpjprj40000gn/T/ipykernel_44789/2239927184.py:4: FutureWarning: The default of observed=False is deprecated and will be changed to True in a future version of pandas. Pass observed=False to retain current behavior or observed=True to adopt the future default and silence this warning.\n",
      "  passed_math =(merge[merge['math_score'] >= 70].groupby(['school_name','size_range']).size())\n"
     ]
    }
   ],
   "source": [
    "# math_pass_size\n",
    "merge['size_range'] = pd.cut(merge['size'], size_bins, group_names)\n",
    "\n",
    "passed_math =(merge[merge['math_score'] >= 70].groupby(['school_name','size_range']).size())\n",
    "print(passed_math)\n",
    "\n"
   ]
  },
  {
   "cell_type": "code",
   "execution_count": 155,
   "metadata": {},
   "outputs": [
    {
     "name": "stdout",
     "output_type": "stream",
     "text": [
      "school_name            size_range  \n",
      "Bailey High School     (0, 1000]          0\n",
      "                       (1000, 2000]       0\n",
      "                       (2000, 5000]    4077\n",
      "Cabrera High School    (0, 1000]          0\n",
      "                       (1000, 2000]    1803\n",
      "                       (2000, 5000]       0\n",
      "Figueroa High School   (0, 1000]          0\n",
      "                       (1000, 2000]       0\n",
      "                       (2000, 5000]    2381\n",
      "Ford High School       (0, 1000]          0\n",
      "                       (1000, 2000]       0\n",
      "                       (2000, 5000]    2172\n",
      "Griffin High School    (0, 1000]          0\n",
      "                       (1000, 2000]    1426\n",
      "                       (2000, 5000]       0\n",
      "Hernandez High School  (0, 1000]          0\n",
      "                       (1000, 2000]       0\n",
      "                       (2000, 5000]    3748\n",
      "Holden High School     (0, 1000]        411\n",
      "                       (1000, 2000]       0\n",
      "                       (2000, 5000]       0\n",
      "Huang High School      (0, 1000]          0\n",
      "                       (1000, 2000]       0\n",
      "                       (2000, 5000]    2372\n",
      "Johnson High School    (0, 1000]          0\n",
      "                       (1000, 2000]       0\n",
      "                       (2000, 5000]    3867\n",
      "Pena High School       (0, 1000]        923\n",
      "                       (1000, 2000]       0\n",
      "                       (2000, 5000]       0\n",
      "Rodriguez High School  (0, 1000]          0\n",
      "                       (1000, 2000]       0\n",
      "                       (2000, 5000]    3208\n",
      "Shelton High School    (0, 1000]          0\n",
      "                       (1000, 2000]    1688\n",
      "                       (2000, 5000]       0\n",
      "Thomas High School     (0, 1000]          0\n",
      "                       (1000, 2000]    1591\n",
      "                       (2000, 5000]       0\n",
      "Wilson High School     (0, 1000]          0\n",
      "                       (1000, 2000]       0\n",
      "                       (2000, 5000]    2204\n",
      "Wright High School     (0, 1000]          0\n",
      "                       (1000, 2000]    1739\n",
      "                       (2000, 5000]       0\n",
      "dtype: int64\n"
     ]
    },
    {
     "name": "stderr",
     "output_type": "stream",
     "text": [
      "/var/folders/sz/vjzx_ntj38v1_t2lkqpjprj40000gn/T/ipykernel_44789/2479180406.py:4: FutureWarning: The default of observed=False is deprecated and will be changed to True in a future version of pandas. Pass observed=False to retain current behavior or observed=True to adopt the future default and silence this warning.\n",
      "  passed_reading =(merge[merge['reading_score'] >= 70].groupby(['school_name','size_range']).size())\n"
     ]
    }
   ],
   "source": [
    "# read_pass_size\n",
    "merge['size_range'] = pd.cut(merge['size'], size_bins, group_names)\n",
    "\n",
    "passed_reading =(merge[merge['reading_score'] >= 70].groupby(['school_name','size_range']).size())\n",
    "print(passed_reading)"
   ]
  },
  {
   "cell_type": "code",
   "execution_count": 157,
   "metadata": {},
   "outputs": [
    {
     "name": "stdout",
     "output_type": "stream",
     "text": [
      "size_range\n",
      "(0, 1000]       93.952484\n",
      "(1000, 2000]    93.616522\n",
      "(2000, 5000]    68.652380\n",
      "dtype: float64\n"
     ]
    },
    {
     "name": "stderr",
     "output_type": "stream",
     "text": [
      "/var/folders/sz/vjzx_ntj38v1_t2lkqpjprj40000gn/T/ipykernel_44789/4022257217.py:3: FutureWarning: The default of observed=False is deprecated and will be changed to True in a future version of pandas. Pass observed=False to retain current behavior or observed=True to adopt the future default and silence this warning.\n",
      "  total_counts_by_size = merge.groupby('size_range').size()\n",
      "/var/folders/sz/vjzx_ntj38v1_t2lkqpjprj40000gn/T/ipykernel_44789/4022257217.py:5: FutureWarning: The default of observed=False is deprecated and will be changed to True in a future version of pandas. Pass observed=False to retain current behavior or observed=True to adopt the future default and silence this warning.\n",
      "  passing_counts_by_size = merge[merge['math_score'] >= 70].groupby('size_range').size()\n"
     ]
    }
   ],
   "source": [
    "# Calculate the overall passing rate for different school size\n",
    "merge['size_range'] = pd.cut(merge['size'], size_bins,group_names)\n",
    "total_counts_by_size = merge.groupby('size_range').size()\n",
    "\n",
    "passing_counts_by_size = merge[merge['math_score'] >= 70].groupby('size_range').size()\n",
    "\n",
    "overall_results = ( passing_counts_by_size/ total_counts_by_size) * 100\n",
    "print(overall_results)"
   ]
  },
  {
   "cell_type": "markdown",
   "metadata": {},
   "source": [
    "### Scores by School Type"
   ]
  },
  {
   "cell_type": "markdown",
   "metadata": {},
   "source": [
    "* Perform the same operations as above, based on school type."
   ]
  },
  {
   "cell_type": "code",
   "execution_count": 161,
   "metadata": {},
   "outputs": [],
   "source": [
    "# Create bins and groups, school type {'Charter', 'District'}\n",
    "\n",
    "mathsizebins = [0,1872,3145]\n",
    "groupnames = {\"Charter (<1872)\",\"District(1872-3145)\"}\n"
   ]
  },
  {
   "cell_type": "markdown",
   "metadata": {},
   "source": [
    "Find counts of the passing 70 or higher score for the both test\n"
   ]
  },
  {
   "cell_type": "code",
   "execution_count": 164,
   "metadata": {},
   "outputs": [
    {
     "name": "stdout",
     "output_type": "stream",
     "text": [
      "school_name            School_Type \n",
      "Bailey High School     (0, 1872]       3318\n",
      "                       (1872, 3145]       0\n",
      "Cabrera High School    (0, 1872]       1749\n",
      "                       (1872, 3145]       0\n",
      "Figueroa High School   (0, 1872]       1946\n",
      "                       (1872, 3145]       0\n",
      "Ford High School       (0, 1872]       1871\n",
      "                       (1872, 3145]       0\n",
      "Griffin High School    (0, 1872]       1371\n",
      "                       (1872, 3145]       0\n",
      "Hernandez High School  (0, 1872]       3094\n",
      "                       (1872, 3145]       0\n",
      "Holden High School     (0, 1872]        395\n",
      "                       (1872, 3145]       0\n",
      "Huang High School      (0, 1872]       1916\n",
      "                       (1872, 3145]       0\n",
      "Johnson High School    (0, 1872]       3145\n",
      "                       (1872, 3145]       0\n",
      "Pena High School       (0, 1872]        910\n",
      "                       (1872, 3145]       0\n",
      "Rodriguez High School  (0, 1872]       2654\n",
      "                       (1872, 3145]       0\n",
      "Shelton High School    (0, 1872]       1653\n",
      "                       (1872, 3145]       0\n",
      "Thomas High School     (0, 1872]       1525\n",
      "                       (1872, 3145]       0\n",
      "Wilson High School     (0, 1872]       2143\n",
      "                       (1872, 3145]       0\n",
      "Wright High School     (0, 1872]       1680\n",
      "                       (1872, 3145]       0\n",
      "dtype: int64\n"
     ]
    },
    {
     "name": "stderr",
     "output_type": "stream",
     "text": [
      "/var/folders/sz/vjzx_ntj38v1_t2lkqpjprj40000gn/T/ipykernel_44789/1746296353.py:5: FutureWarning: The default of observed=False is deprecated and will be changed to True in a future version of pandas. Pass observed=False to retain current behavior or observed=True to adopt the future default and silence this warning.\n",
      "  passedmath =(merge[merge['math_score'] >= 70].groupby(['school_name','School_Type']).size())\n"
     ]
    }
   ],
   "source": [
    "# math pass size\n",
    "\n",
    "merge['School_Type'] = pd.cut(merge['math_score'],mathsizebins, groupnames)\n",
    "\n",
    "passedmath =(merge[merge['math_score'] >= 70].groupby(['school_name','School_Type']).size())\n",
    "print(passedmath)"
   ]
  },
  {
   "cell_type": "code",
   "execution_count": 166,
   "metadata": {},
   "outputs": [
    {
     "name": "stdout",
     "output_type": "stream",
     "text": [
      "school_name            School_Type \n",
      "Bailey High School     (0, 1740]       4077\n",
      "                       (1740, 4077]       0\n",
      "Cabrera High School    (0, 1740]       1803\n",
      "                       (1740, 4077]       0\n",
      "Figueroa High School   (0, 1740]       2381\n",
      "                       (1740, 4077]       0\n",
      "Ford High School       (0, 1740]       2172\n",
      "                       (1740, 4077]       0\n",
      "Griffin High School    (0, 1740]       1426\n",
      "                       (1740, 4077]       0\n",
      "Hernandez High School  (0, 1740]       3748\n",
      "                       (1740, 4077]       0\n",
      "Holden High School     (0, 1740]        411\n",
      "                       (1740, 4077]       0\n",
      "Huang High School      (0, 1740]       2372\n",
      "                       (1740, 4077]       0\n",
      "Johnson High School    (0, 1740]       3867\n",
      "                       (1740, 4077]       0\n",
      "Pena High School       (0, 1740]        923\n",
      "                       (1740, 4077]       0\n",
      "Rodriguez High School  (0, 1740]       3208\n",
      "                       (1740, 4077]       0\n",
      "Shelton High School    (0, 1740]       1688\n",
      "                       (1740, 4077]       0\n",
      "Thomas High School     (0, 1740]       1591\n",
      "                       (1740, 4077]       0\n",
      "Wilson High School     (0, 1740]       2204\n",
      "                       (1740, 4077]       0\n",
      "Wright High School     (0, 1740]       1739\n",
      "                       (1740, 4077]       0\n",
      "dtype: int64\n"
     ]
    },
    {
     "name": "stderr",
     "output_type": "stream",
     "text": [
      "/var/folders/sz/vjzx_ntj38v1_t2lkqpjprj40000gn/T/ipykernel_44789/3476100325.py:7: FutureWarning: The default of observed=False is deprecated and will be changed to True in a future version of pandas. Pass observed=False to retain current behavior or observed=True to adopt the future default and silence this warning.\n",
      "  passedreading =(merge[merge['reading_score'] >= 70].groupby(['school_name','School_Type']).size())\n"
     ]
    }
   ],
   "source": [
    "# reading pass size\n",
    "readsizebins = [0,1740,4077]\n",
    "groupnames = {\"Charter (<1740)\",\"District(1740-4077)\"}\n",
    "\n",
    "merge['School_Type'] = pd.cut(merge['reading_score'],readsizebins, groupnames)\n",
    "\n",
    "passedreading =(merge[merge['reading_score'] >= 70].groupby(['school_name','School_Type']).size())\n",
    "print(passedreading)"
   ]
  },
  {
   "cell_type": "code",
   "execution_count": 168,
   "metadata": {},
   "outputs": [
    {
     "name": "stdout",
     "output_type": "stream",
     "text": [
      "School_Type\n",
      "(0, 1740]       74.980853\n",
      "(1740, 4077]          NaN\n",
      "dtype: float64\n"
     ]
    },
    {
     "name": "stderr",
     "output_type": "stream",
     "text": [
      "/var/folders/sz/vjzx_ntj38v1_t2lkqpjprj40000gn/T/ipykernel_44789/1723640405.py:2: FutureWarning: The default of observed=False is deprecated and will be changed to True in a future version of pandas. Pass observed=False to retain current behavior or observed=True to adopt the future default and silence this warning.\n",
      "  total = merge.groupby('School_Type').size()\n",
      "/var/folders/sz/vjzx_ntj38v1_t2lkqpjprj40000gn/T/ipykernel_44789/1723640405.py:3: FutureWarning: The default of observed=False is deprecated and will be changed to True in a future version of pandas. Pass observed=False to retain current behavior or observed=True to adopt the future default and silence this warning.\n",
      "  passed = merge[merge['math_score'] >= 70].groupby('School_Type').size()\n"
     ]
    }
   ],
   "source": [
    "# Calculate the overall passing rate\n",
    "total = merge.groupby('School_Type').size()\n",
    "passed = merge[merge['math_score'] >= 70].groupby('School_Type').size()\n",
    "\n",
    "passing_rate = (passed / total) * 100  \n",
    "\n",
    "print(passing_rate)"
   ]
  },
  {
   "cell_type": "code",
   "execution_count": null,
   "metadata": {},
   "outputs": [],
   "source": []
  },
  {
   "cell_type": "code",
   "execution_count": null,
   "metadata": {},
   "outputs": [],
   "source": []
  }
 ],
 "metadata": {
  "anaconda-cloud": {},
  "kernel_info": {
   "name": "python3"
  },
  "kernelspec": {
   "display_name": "Python 3 (ipykernel)",
   "language": "python",
   "name": "python3"
  },
  "language_info": {
   "codemirror_mode": {
    "name": "ipython",
    "version": 3
   },
   "file_extension": ".py",
   "mimetype": "text/x-python",
   "name": "python",
   "nbconvert_exporter": "python",
   "pygments_lexer": "ipython3",
   "version": "3.12.4"
  },
  "latex_envs": {
   "LaTeX_envs_menu_present": true,
   "autoclose": false,
   "autocomplete": true,
   "bibliofile": "biblio.bib",
   "cite_by": "apalike",
   "current_citInitial": 1,
   "eqLabelWithNumbers": true,
   "eqNumInitial": 1,
   "hotkeys": {
    "equation": "Ctrl-E",
    "itemize": "Ctrl-I"
   },
   "labels_anchors": false,
   "latex_user_defs": false,
   "report_style_numbering": false,
   "user_envs_cfg": false
  },
  "nteract": {
   "version": "0.8.4"
  },
  "toc": {
   "base_numbering": 1,
   "nav_menu": {},
   "number_sections": true,
   "sideBar": true,
   "skip_h1_title": false,
   "title_cell": "Table of Contents",
   "title_sidebar": "Contents",
   "toc_cell": false,
   "toc_position": {},
   "toc_section_display": true,
   "toc_window_display": false
  }
 },
 "nbformat": 4,
 "nbformat_minor": 4
}
